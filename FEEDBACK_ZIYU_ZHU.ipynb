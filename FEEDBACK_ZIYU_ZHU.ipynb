{
  "nbformat": 4,
  "nbformat_minor": 0,
  "metadata": {
    "colab": {
      "provenance": [],
      "authorship_tag": "ABX9TyPhBUlFYAEZnR9wjM8jqWUA",
      "include_colab_link": true
    },
    "kernelspec": {
      "name": "python3",
      "display_name": "Python 3"
    },
    "language_info": {
      "name": "python"
    }
  },
  "cells": [
    {
      "cell_type": "markdown",
      "metadata": {
        "id": "view-in-github",
        "colab_type": "text"
      },
      "source": [
        "<a href=\"https://colab.research.google.com/github/YunaZhu/2025_Intro_Python/blob/main/FEEDBACK_ZIYU_ZHU.ipynb\" target=\"_parent\"><img src=\"https://colab.research.google.com/assets/colab-badge.svg\" alt=\"Open In Colab\"/></a>"
      ]
    },
    {
      "cell_type": "markdown",
      "source": [
        "# Feedback for Introduction to Scientific Programming with Python\n",
        "\n",
        "In general, I found exercises series 1.8 very challenging."
      ],
      "metadata": {
        "id": "9Xpq1Y8_EC9L"
      }
    },
    {
      "cell_type": "code",
      "source": [
        "# We'll need to load the data from the UNIL sharepoint using pooch, so let's\n",
        "# import the library\n",
        "import pooch\n",
        "import numpy as np\n",
        "import matplotlib.pyplot as plt\n",
        "\n",
        "# In order to keep our code concise and readable, we'll use a variable that\n",
        "# stores the common part of the URL where the data is hosted. Then, we'll store\n",
        "# the full URL for each file in its own variable\n",
        "base_url = 'https://unils-my.sharepoint.com/:u:/g/personal/tom_beucler_unil_ch/'\n",
        "lon_url =  f'{base_url}EQtSkmHdXlZAuZcDljeHXuMBIVGfXP4lkR56RX6vuCDh1Q?download=1'\n",
        "lat_url =  f'{base_url}EbMAwn26etZPjxw4F3akRt8BmPef3PMQPn751e6tF0Xi-Q?download=1'\n",
        "temp_url = f'{base_url}EfUOMGrJNtVMgJUtfP9137sB9d64M_osBRPa0iQRSCHKGg?download=1'\n",
        "\n",
        "# Let's go ahead and cache each file\n",
        "lon_filename  = pooch.retrieve(lon_url,\n",
        "                               known_hash='eaf54b88dd89279d3034da17fe8470dc2c841bf9fa89b2aa741dacff9c326cdb'\n",
        "                               )\n",
        "\n",
        "lat_filename  = pooch.retrieve(lat_url,\n",
        "                               known_hash='af1f438080460e1fca4583b2ec19b44285a3d3776e4d21b8da9b6e162906c88a'\n",
        "                               )\n",
        "temp_filename = pooch.retrieve(temp_url,\n",
        "                               known_hash='e040ca257334708b43e86398e09a5669fcf051179ecf5dcd278f758d67beed20'\n",
        "                               )\n",
        "\n",
        "# And then load each file into a numpy array. You can now use these variables\n",
        "# to continue with the exercise :)\n",
        "lon = np.load(lon_filename)\n",
        "lat = np.load(lat_filename)\n",
        "temp = np.load(temp_filename)\n",
        "\n",
        "# Replicate this figure\n",
        "# Temperature values are originally in Kelvin units -> Convert to degree celsius by subtracting 273.15\n",
        "temp_celsius=temp-273.15\n",
        "fig, (ax1,ax2) = plt.subplots(nrows=1,ncols=2, figsize=(12,7),gridspec_kw={'width_ratios': [7, 1.5]})\n",
        "ctemp = ax1.contourf(lon,lat,temp_celsius,cmap='magma',levels=np.linspace(-30,40,15),extend='both')\n",
        "ax1.contour(lon,lat,temp_celsius>-10,cmap='gist_yerg',levels=np.linspace(-30,40,15),extend='both', linestyle='dotted')\n",
        "ax2.plot(np.mean(temp_celsius,axis=1),lat,c='k')\n",
        "ax1.set_xlabel('Longitude')\n",
        "ax1.set_ylabel('Latitude')\n",
        "ax1.set_title('Current Global Temperature')\n",
        "ax1.legend()\n",
        "cbar=fig.colorbar(ctemp)\n",
        "cbar.set_label('$^o$C', rotation=270, labelpad=15)\n",
        "ax2.plot(np.mean(temp_celsius,axis=1),lat,lw=2,c='k')\n",
        "ax2.set_xlabel(r'$^{o}$C') # $ $ for math equation, ^o is the exponent of C\n",
        "ax2.set_ylabel(r'Latitude')\n",
        "ax2.set_title('Zonal Mean Temperature')\n",
        "plt.grid()\n",
        "plt.show()"
      ],
      "metadata": {
        "id": "WYsoaqziH9Rg"
      },
      "execution_count": null,
      "outputs": []
    },
    {
      "cell_type": "code",
      "source": [
        "#part 2\n",
        "fname = pooch.retrieve(\n",
        "    \"https://unils-my.sharepoint.com/:u:/g/personal/tom_beucler_unil_ch/EW1bnM3elHpAtjb1KtiEw0wB9Pl5w_FwrCvVRlnilXHCtg?download=1\",\n",
        "    known_hash='22b9f7045bf90fb99e14b95b24c81da3c52a0b4c79acf95d72fbe3a257001dbb',\n",
        "    processor=pooch.Unzip()\n",
        ")[0]\n",
        "\n",
        "earthquakes = np.genfromtxt(fname, delimiter='\\t')\n",
        "depth = earthquakes[:, 8]\n",
        "magnitude = earthquakes[:, 9]\n",
        "latitude = earthquakes[:, 20]\n",
        "longitude = earthquakes[:, 21]\n",
        "# Replicate the figure here\n",
        "fig,axe = plt.subplots(ncols=1,nrows=1, figsize=(13,6))\n",
        "ctemp=axe.scatter(longitude,latitude,s=(magnitude),c=np.array(depth),marker='o',cmap='viridis',vmin=0,vmax=10**2.5) # c=color, vmin and vmax for value clipping\n",
        "axe.set_xlabel('Longitude')\n",
        "axe.set_ylabel('Latitude')\n",
        "axe.set_title('Location of Siginificant Earthquakes with size indicating relative magnitude')\n",
        "fig.colorbar(ctemp,ax=axe,label='Depth(m)',format=ticker.FuncFormatter(fmt))\n",
        "plt.grid()\n",
        "plt.show()"
      ],
      "metadata": {
        "id": "nQP-wDnhLOzs"
      },
      "execution_count": null,
      "outputs": []
    },
    {
      "cell_type": "markdown",
      "source": [
        "(i)There is an error in the provided code line; the vmax=2.5 is using the wrong scale for the scatter plot, which makes my plot all in yellow points.\n",
        "\n",
        "(ii) change vmax to 10**2.5\n",
        "\n",
        "For Part III:"
      ],
      "metadata": {
        "id": "n_HbHQiaLQs9"
      }
    },
    {
      "cell_type": "code",
      "source": [
        "import matplotlib.pyplot as plt\n",
        "#import cartopy.feature as cfeature\n",
        "import numpy as np\n",
        "\n",
        "fig,ax = plt.subplots(nrows=1,ncols=2,figsize=(18, 12),subplot_kw={'projection': ccrs.SouthPolarStereo()})\n",
        "# The rest doesn't change:\n",
        "ax[0].set_extent([-180, 180, -90, -55], ccrs.PlateCarree())\n",
        "\n",
        "######################################################################################################################################################\n",
        "# Add Land and gridlines\n",
        "# Hint: Check edgecolor to show coast, and facecolor to color the continent\n",
        "# Hint: https://matplotlib.org/stable/gallery/color/named_colors.html for the names of the colors available\n",
        "######################################################################################################################################################\n",
        "ax[0].add_feature(cartopy.feature.LAND, edgecolor='k',facecolor='silver')\n",
        "ax[0].gridlines(lw=0.5,color='k')\n",
        "######################################################################################################################################################\n",
        "# Add Contours\n",
        "# Hint: X (Y) data in the pcolormesh should be the longitude and latitude of the sea ice data.\n",
        "# Hint: Check the shape of the var_toplot1, var_toplot2 before plotting\n",
        "# Hint: longitude and latitude can be accessed with seaice1.variables['longitude'][:], seaice1.variables['latitude'][:]\n",
        "# Hint: Check this website: https://matplotlib.org/stable/tutorials/colors/colormaps.html for available colormaps\n",
        "######################################################################################################################################################\n",
        "sea_ice1 = ax[0].pcolormesh(seaice1.variable['longitude'][:], seaice1.variables['latitude'][:], np.ma.masked_greater(var_toplot1[0,:,:],1), transform=ccrs.PlateCaree(),vmin=0,vmax=1,cmap='Spectral')\n",
        "plt.colorbar(sea_ice1,ax=ax[0],fraction=0.046, pad=0.04,label='Sea Ice concentration')\n",
        "#ax[0].set_title('2017-08-01')\n",
        "\n",
        "\n",
        "#ax[1].set_extent([-180, 180, -90, -55], ccrs.PlateCarree())\n",
        "#ax[1].add_feature(cartopy.feature.Land, edgecolor='k',facecolor='silver')\n",
        "#ax[1].gridlines(lw=0.5,color='k')\n",
        "\n",
        "#sea_ice2 = ax[1].pcolormesh(seaice2.variable['longitude'][:], seaice2.variables['latitude'][:], np.ma.masked_greater(var_toplot2[1],1), transform=SouthPolarStereo,vmin=0,vmax=1,cmap='Spectral')\n",
        "#plt.colorbar(sea_ice2,ax=ax[1],label='Sea Ice concentration',fraction=0.046, pad=0.04)\n",
        "#ax[1].set_title('2017-12-31')\n",
        "plt.show()"
      ],
      "metadata": {
        "colab": {
          "base_uri": "https://localhost:8080/",
          "height": 216
        },
        "id": "GirgMqwOLSBa",
        "outputId": "7f1d9aa7-0253-4795-c918-40a6e542b4ff"
      },
      "execution_count": null,
      "outputs": [
        {
          "output_type": "error",
          "ename": "NameError",
          "evalue": "name 'ccrs' is not defined",
          "traceback": [
            "\u001b[0;31m---------------------------------------------------------------------------\u001b[0m",
            "\u001b[0;31mNameError\u001b[0m                                 Traceback (most recent call last)",
            "\u001b[0;32m/tmp/ipython-input-535867762.py\u001b[0m in \u001b[0;36m<cell line: 0>\u001b[0;34m()\u001b[0m\n\u001b[1;32m      3\u001b[0m \u001b[0;32mimport\u001b[0m \u001b[0mnumpy\u001b[0m \u001b[0;32mas\u001b[0m \u001b[0mnp\u001b[0m\u001b[0;34m\u001b[0m\u001b[0;34m\u001b[0m\u001b[0m\n\u001b[1;32m      4\u001b[0m \u001b[0;34m\u001b[0m\u001b[0m\n\u001b[0;32m----> 5\u001b[0;31m \u001b[0mfig\u001b[0m\u001b[0;34m,\u001b[0m\u001b[0max\u001b[0m \u001b[0;34m=\u001b[0m \u001b[0mplt\u001b[0m\u001b[0;34m.\u001b[0m\u001b[0msubplots\u001b[0m\u001b[0;34m(\u001b[0m\u001b[0mnrows\u001b[0m\u001b[0;34m=\u001b[0m\u001b[0;36m1\u001b[0m\u001b[0;34m,\u001b[0m\u001b[0mncols\u001b[0m\u001b[0;34m=\u001b[0m\u001b[0;36m2\u001b[0m\u001b[0;34m,\u001b[0m\u001b[0mfigsize\u001b[0m\u001b[0;34m=\u001b[0m\u001b[0;34m(\u001b[0m\u001b[0;36m18\u001b[0m\u001b[0;34m,\u001b[0m \u001b[0;36m12\u001b[0m\u001b[0;34m)\u001b[0m\u001b[0;34m,\u001b[0m\u001b[0msubplot_kw\u001b[0m\u001b[0;34m=\u001b[0m\u001b[0;34m{\u001b[0m\u001b[0;34m'projection'\u001b[0m\u001b[0;34m:\u001b[0m \u001b[0mccrs\u001b[0m\u001b[0;34m.\u001b[0m\u001b[0mSouthPolarStereo\u001b[0m\u001b[0;34m(\u001b[0m\u001b[0;34m)\u001b[0m\u001b[0;34m}\u001b[0m\u001b[0;34m)\u001b[0m\u001b[0;34m\u001b[0m\u001b[0;34m\u001b[0m\u001b[0m\n\u001b[0m\u001b[1;32m      6\u001b[0m \u001b[0;31m# The rest doesn't change:\u001b[0m\u001b[0;34m\u001b[0m\u001b[0;34m\u001b[0m\u001b[0m\n\u001b[1;32m      7\u001b[0m \u001b[0max\u001b[0m\u001b[0;34m[\u001b[0m\u001b[0;36m0\u001b[0m\u001b[0;34m]\u001b[0m\u001b[0;34m.\u001b[0m\u001b[0mset_extent\u001b[0m\u001b[0;34m(\u001b[0m\u001b[0;34m[\u001b[0m\u001b[0;34m-\u001b[0m\u001b[0;36m180\u001b[0m\u001b[0;34m,\u001b[0m \u001b[0;36m180\u001b[0m\u001b[0;34m,\u001b[0m \u001b[0;34m-\u001b[0m\u001b[0;36m90\u001b[0m\u001b[0;34m,\u001b[0m \u001b[0;34m-\u001b[0m\u001b[0;36m55\u001b[0m\u001b[0;34m]\u001b[0m\u001b[0;34m,\u001b[0m \u001b[0mccrs\u001b[0m\u001b[0;34m.\u001b[0m\u001b[0mPlateCarree\u001b[0m\u001b[0;34m(\u001b[0m\u001b[0;34m)\u001b[0m\u001b[0;34m)\u001b[0m\u001b[0;34m\u001b[0m\u001b[0;34m\u001b[0m\u001b[0m\n",
            "\u001b[0;31mNameError\u001b[0m: name 'ccrs' is not defined"
          ]
        }
      ]
    },
    {
      "cell_type": "markdown",
      "source": [
        "(i) I followed the instructions and I still have the following error:\n",
        "\n",
        "NameError: name 'ccrs' is not defined\n",
        "\n",
        "I tried to figure it out with the assistant, but we couldn't find exactly why this doesn't work.\n",
        "\n",
        "(ii)This exercise is useful for addressing research problems, but it can be very challenging to reach as a beginner."
      ],
      "metadata": {
        "id": "ztXLD9HTMqpk"
      }
    },
    {
      "cell_type": "code",
      "source": [],
      "metadata": {
        "id": "MfjtkHphNnhm"
      },
      "execution_count": null,
      "outputs": []
    }
  ]
}