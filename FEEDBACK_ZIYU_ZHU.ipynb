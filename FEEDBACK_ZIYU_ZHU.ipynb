{
  "nbformat": 4,
  "nbformat_minor": 0,
  "metadata": {
    "colab": {
      "provenance": [],
      "authorship_tag": "ABX9TyO8gVozXomvcwWtHw7GudrF",
      "include_colab_link": true
    },
    "kernelspec": {
      "name": "python3",
      "display_name": "Python 3"
    },
    "language_info": {
      "name": "python"
    }
  },
  "cells": [
    {
      "cell_type": "markdown",
      "metadata": {
        "id": "view-in-github",
        "colab_type": "text"
      },
      "source": [
        "<a href=\"https://colab.research.google.com/github/YunaZhu/2025_Intro_Python/blob/main/FEEDBACK_ZIYU_ZHU.ipynb\" target=\"_parent\"><img src=\"https://colab.research.google.com/assets/colab-badge.svg\" alt=\"Open In Colab\"/></a>"
      ]
    },
    {
      "cell_type": "markdown",
      "source": [
        "# Feedback for Introduction to Scientific Programming with Python\n",
        "\n",
        "In general, I found exercises series 1.4 and 1.8 very challenging.\n",
        "For exercise 1.4 Question 11 and bonus, the comments and descriptions are difficult to understand or misleading. For example:"
      ],
      "metadata": {
        "id": "9Xpq1Y8_EC9L"
      }
    },
    {
      "cell_type": "code",
      "source": [
        "def mass_conversion_two_arguments(mass,planet='jupiter'):\n",
        "  a = mass/planetdict['earth'] # Earth\n",
        "  b = mass/planetdict[planet] # The planet you want to use as a reference\n",
        "  return a,b\n",
        "# Check that it works to convert Jupiter's mass to $M_{Earth}$ and to\n",
        "# the unit you chose (e.g., Mars' planet)\n",
        "print(mass_conversion_two_arguments(planetdict['jupiter'],'mars'))"
      ],
      "metadata": {
        "id": "_aaEwDCVDxYt"
      },
      "execution_count": null,
      "outputs": []
    },
    {
      "cell_type": "markdown",
      "source": [
        "(i) When some other students, including me, saw the comment \"The planet you want to use as a reference\", we started to put 'jupiter' or 'earth' in the function. We realized after long-time debugging, the solution is to put the parameter 'planet' here to make the function work.\n",
        "\n",
        "(ii) I suggest to replace the question comment with: \"reuse the function parameter or input as a reference planet\"\n",
        "\n",
        "Similar problem with 'Bonus':"
      ],
      "metadata": {
        "id": "tcI8sDfiF1WA"
      }
    },
    {
      "cell_type": "code",
      "source": [
        "# Bonus: Use the function from Q10 to convert Neptune's mass to $M_{Jupiter}$\n",
        "# and then the function from Q11 to convert it back to the unit you chose\n",
        "# Do you get the original value back?\n",
        "def mass_back(mass,ref_planet):\n",
        "  a = mass * planetdict[ref_planet]\n",
        "  return a\n",
        "print(mass_back(Mjupiter,'jupiter'))"
      ],
      "metadata": {
        "id": "bickMJksD3Yh"
      },
      "execution_count": null,
      "outputs": []
    },
    {
      "cell_type": "markdown",
      "source": [
        "(i) I do not know which reference to use after reading the description.\n",
        "\n",
        "(ii) I suggest replacing the hint lines with: write a function which can take Mjupiter from Q10 as a mass parameter, and an input as a reference planet. This function converts the mass back to the reference planet. Do you get the original value back?\n",
        "\n",
        "The problems I encountered with 1.8 are mainly because of the provided code, which is not working completely. For Part II:"
      ],
      "metadata": {
        "id": "iPGg4yLTIJVm"
      }
    },
    {
      "cell_type": "code",
      "source": [
        "# Replicate the figure here\n",
        "fig,axe = plt.subplots(ncols=1,nrows=1, figsize=(13,6))\n",
        "ctemp=axe.scatter(longitude,latitude,s=(magnitude),c=np.array(depth),marker='o',cmap='viridis',vmin=0,vmax=10**2.5) # c=color, vmin and vmax for value clipping\n",
        "axe.set_xlabel('Longitude')\n",
        "axe.set_ylabel('Latitude')\n",
        "axe.set_title('Location of Siginificant Earthquakes with size indicating relative magnitude')\n",
        "fig.colorbar(ctemp,ax=axe,label='Depth(m)',format=ticker.FuncFormatter(fmt))\n",
        "plt.grid()\n",
        "plt.show()"
      ],
      "metadata": {
        "id": "nQP-wDnhLOzs"
      },
      "execution_count": null,
      "outputs": []
    },
    {
      "cell_type": "markdown",
      "source": [
        "(i)There is an error in the provided code line; the vmax=2.5 is using the wrong scale for the scatter plot, which makes my plot all in yellow points.\n",
        "\n",
        "(ii) change vmax to 10**2.5\n",
        "\n",
        "For Part III:"
      ],
      "metadata": {
        "id": "n_HbHQiaLQs9"
      }
    },
    {
      "cell_type": "code",
      "source": [
        "import matplotlib.pyplot as plt\n",
        "#import cartopy.feature as cfeature\n",
        "import numpy as np\n",
        "\n",
        "fig,ax = plt.subplots(nrows=1,ncols=2,figsize=(18, 12),subplot_kw={'projection': ccrs.SouthPolarStereo()})\n",
        "# The rest doesn't change:\n",
        "ax[0].set_extent([-180, 180, -90, -55], ccrs.PlateCarree())\n",
        "\n",
        "######################################################################################################################################################\n",
        "# Add Land and gridlines\n",
        "# Hint: Check edgecolor to show coast, and facecolor to color the continent\n",
        "# Hint: https://matplotlib.org/stable/gallery/color/named_colors.html for the names of the colors available\n",
        "######################################################################################################################################################\n",
        "ax[0].add_feature(cartopy.feature.LAND, edgecolor='k',facecolor='silver')\n",
        "ax[0].gridlines(lw=0.5,color='k')\n",
        "######################################################################################################################################################\n",
        "# Add Contours\n",
        "# Hint: X (Y) data in the pcolormesh should be the longitude and latitude of the sea ice data.\n",
        "# Hint: Check the shape of the var_toplot1, var_toplot2 before plotting\n",
        "# Hint: longitude and latitude can be accessed with seaice1.variables['longitude'][:], seaice1.variables['latitude'][:]\n",
        "# Hint: Check this website: https://matplotlib.org/stable/tutorials/colors/colormaps.html for available colormaps\n",
        "######################################################################################################################################################\n",
        "sea_ice1 = ax[0].pcolormesh(seaice1.variable['longitude'][:], seaice1.variables['latitude'][:], np.ma.masked_greater(var_toplot1[0,:,:],1), transform=ccrs.PlateCaree(),vmin=0,vmax=1,cmap='Spectral')\n",
        "plt.colorbar(sea_ice1,ax=ax[0],fraction=0.046, pad=0.04,label='Sea Ice concentration')\n",
        "#ax[0].set_title('2017-08-01')\n",
        "\n",
        "\n",
        "#ax[1].set_extent([-180, 180, -90, -55], ccrs.PlateCarree())\n",
        "#ax[1].add_feature(cartopy.feature.Land, edgecolor='k',facecolor='silver')\n",
        "#ax[1].gridlines(lw=0.5,color='k')\n",
        "\n",
        "#sea_ice2 = ax[1].pcolormesh(seaice2.variable['longitude'][:], seaice2.variables['latitude'][:], np.ma.masked_greater(var_toplot2[1],1), transform=SouthPolarStereo,vmin=0,vmax=1,cmap='Spectral')\n",
        "#plt.colorbar(sea_ice2,ax=ax[1],label='Sea Ice concentration',fraction=0.046, pad=0.04)\n",
        "#ax[1].set_title('2017-12-31')\n",
        "plt.show()"
      ],
      "metadata": {
        "colab": {
          "base_uri": "https://localhost:8080/",
          "height": 216
        },
        "id": "GirgMqwOLSBa",
        "outputId": "7f1d9aa7-0253-4795-c918-40a6e542b4ff"
      },
      "execution_count": 1,
      "outputs": [
        {
          "output_type": "error",
          "ename": "NameError",
          "evalue": "name 'ccrs' is not defined",
          "traceback": [
            "\u001b[0;31m---------------------------------------------------------------------------\u001b[0m",
            "\u001b[0;31mNameError\u001b[0m                                 Traceback (most recent call last)",
            "\u001b[0;32m/tmp/ipython-input-535867762.py\u001b[0m in \u001b[0;36m<cell line: 0>\u001b[0;34m()\u001b[0m\n\u001b[1;32m      3\u001b[0m \u001b[0;32mimport\u001b[0m \u001b[0mnumpy\u001b[0m \u001b[0;32mas\u001b[0m \u001b[0mnp\u001b[0m\u001b[0;34m\u001b[0m\u001b[0;34m\u001b[0m\u001b[0m\n\u001b[1;32m      4\u001b[0m \u001b[0;34m\u001b[0m\u001b[0m\n\u001b[0;32m----> 5\u001b[0;31m \u001b[0mfig\u001b[0m\u001b[0;34m,\u001b[0m\u001b[0max\u001b[0m \u001b[0;34m=\u001b[0m \u001b[0mplt\u001b[0m\u001b[0;34m.\u001b[0m\u001b[0msubplots\u001b[0m\u001b[0;34m(\u001b[0m\u001b[0mnrows\u001b[0m\u001b[0;34m=\u001b[0m\u001b[0;36m1\u001b[0m\u001b[0;34m,\u001b[0m\u001b[0mncols\u001b[0m\u001b[0;34m=\u001b[0m\u001b[0;36m2\u001b[0m\u001b[0;34m,\u001b[0m\u001b[0mfigsize\u001b[0m\u001b[0;34m=\u001b[0m\u001b[0;34m(\u001b[0m\u001b[0;36m18\u001b[0m\u001b[0;34m,\u001b[0m \u001b[0;36m12\u001b[0m\u001b[0;34m)\u001b[0m\u001b[0;34m,\u001b[0m\u001b[0msubplot_kw\u001b[0m\u001b[0;34m=\u001b[0m\u001b[0;34m{\u001b[0m\u001b[0;34m'projection'\u001b[0m\u001b[0;34m:\u001b[0m \u001b[0mccrs\u001b[0m\u001b[0;34m.\u001b[0m\u001b[0mSouthPolarStereo\u001b[0m\u001b[0;34m(\u001b[0m\u001b[0;34m)\u001b[0m\u001b[0;34m}\u001b[0m\u001b[0;34m)\u001b[0m\u001b[0;34m\u001b[0m\u001b[0;34m\u001b[0m\u001b[0m\n\u001b[0m\u001b[1;32m      6\u001b[0m \u001b[0;31m# The rest doesn't change:\u001b[0m\u001b[0;34m\u001b[0m\u001b[0;34m\u001b[0m\u001b[0m\n\u001b[1;32m      7\u001b[0m \u001b[0max\u001b[0m\u001b[0;34m[\u001b[0m\u001b[0;36m0\u001b[0m\u001b[0;34m]\u001b[0m\u001b[0;34m.\u001b[0m\u001b[0mset_extent\u001b[0m\u001b[0;34m(\u001b[0m\u001b[0;34m[\u001b[0m\u001b[0;34m-\u001b[0m\u001b[0;36m180\u001b[0m\u001b[0;34m,\u001b[0m \u001b[0;36m180\u001b[0m\u001b[0;34m,\u001b[0m \u001b[0;34m-\u001b[0m\u001b[0;36m90\u001b[0m\u001b[0;34m,\u001b[0m \u001b[0;34m-\u001b[0m\u001b[0;36m55\u001b[0m\u001b[0;34m]\u001b[0m\u001b[0;34m,\u001b[0m \u001b[0mccrs\u001b[0m\u001b[0;34m.\u001b[0m\u001b[0mPlateCarree\u001b[0m\u001b[0;34m(\u001b[0m\u001b[0;34m)\u001b[0m\u001b[0;34m)\u001b[0m\u001b[0;34m\u001b[0m\u001b[0;34m\u001b[0m\u001b[0m\n",
            "\u001b[0;31mNameError\u001b[0m: name 'ccrs' is not defined"
          ]
        }
      ]
    },
    {
      "cell_type": "markdown",
      "source": [
        "(i) I followed the instructions and I still have the following error:\n",
        "\n",
        "NameError: name 'ccrs' is not defined\n",
        "\n",
        "I tried to figure it out with the assistant, but we couldn't find exactly why this doesn't work.\n",
        "\n",
        "(ii)This exercise is useful for addressing research problems, but it can be very challenging to reach as a beginner."
      ],
      "metadata": {
        "id": "ztXLD9HTMqpk"
      }
    },
    {
      "cell_type": "code",
      "source": [],
      "metadata": {
        "id": "MfjtkHphNnhm"
      },
      "execution_count": null,
      "outputs": []
    }
  ]
}