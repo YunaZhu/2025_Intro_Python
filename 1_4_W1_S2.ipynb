{
  "nbformat": 4,
  "nbformat_minor": 0,
  "metadata": {
    "colab": {
      "provenance": [],
      "include_colab_link": true
    },
    "kernelspec": {
      "name": "python3",
      "display_name": "Python 3"
    },
    "language_info": {
      "name": "python"
    }
  },
  "cells": [
    {
      "cell_type": "markdown",
      "metadata": {
        "id": "view-in-github",
        "colab_type": "text"
      },
      "source": [
        "<a href=\"https://colab.research.google.com/github/YunaZhu/2025_Intro_Python/blob/main/1_4_W1_S2.ipynb\" target=\"_parent\"><img src=\"https://colab.research.google.com/assets/colab-badge.svg\" alt=\"Open In Colab\"/></a>"
      ]
    },
    {
      "cell_type": "markdown",
      "source": [
        "# (Exercises) Simple Data Structures"
      ],
      "metadata": {
        "id": "9kmxOQ6qHj8X"
      }
    },
    {
      "cell_type": "markdown",
      "source": [
        "## Warm-up: Lists"
      ],
      "metadata": {
        "id": "iyJBbPOSAC3a"
      }
    },
    {
      "cell_type": "markdown",
      "source": [
        "1. Write out the following code without using a list comprehension:\\\n",
        "`plus_thirteen = [number + 13 for number in range(1,11)]`\n",
        "2. Use list comprehension or loops to create a list of first twenty cubes (i.e., `x^3 from 0-19`)"
      ],
      "metadata": {
        "id": "t4SvHV60ALnR"
      }
    },
    {
      "cell_type": "code",
      "source": [
        "# Question 1\n",
        "plus_thirteen = []\n",
        "for i in range(1,11):\n",
        "  plus_thirteen.append(i+13)\n",
        "print(plus_thirteen)"
      ],
      "metadata": {
        "id": "c88sWFwuyiy9",
        "colab": {
          "base_uri": "https://localhost:8080/"
        },
        "outputId": "7d9d1179-86dd-4115-e458-d0f4e88553d8"
      },
      "execution_count": null,
      "outputs": [
        {
          "output_type": "stream",
          "name": "stdout",
          "text": [
            "[14, 15, 16, 17, 18, 19, 20, 21, 22, 23]\n"
          ]
        }
      ]
    },
    {
      "cell_type": "code",
      "source": [
        "#@title ##### Your answer should look like this\n",
        "plus_thirteen = []\n",
        "for number in range(1,11):\n",
        "  plus_thirteen.append(number+13)\n",
        "print(plus_thirteen)"
      ],
      "metadata": {
        "cellView": "form",
        "id": "u6lOYAOfXk1I",
        "colab": {
          "base_uri": "https://localhost:8080/"
        },
        "outputId": "435877cc-f954-47f1-eeb1-fe1ea835e647"
      },
      "execution_count": null,
      "outputs": [
        {
          "output_type": "stream",
          "name": "stdout",
          "text": [
            "[14, 15, 16, 17, 18, 19, 20, 21, 22, 23]\n"
          ]
        }
      ]
    },
    {
      "cell_type": "code",
      "source": [
        "# Question 2\n",
        "first_20_cubes = [n**3 for n in range(20)]\n",
        "print(first_20_cubes)"
      ],
      "metadata": {
        "id": "fwev9Agux5NM",
        "colab": {
          "base_uri": "https://localhost:8080/"
        },
        "outputId": "836f7699-206f-47c5-9cb2-4cb5184f7ab7"
      },
      "execution_count": null,
      "outputs": [
        {
          "output_type": "stream",
          "name": "stdout",
          "text": [
            "[0, 1, 8, 27, 64, 125, 216, 343, 512, 729, 1000, 1331, 1728, 2197, 2744, 3375, 4096, 4913, 5832, 6859]\n"
          ]
        }
      ]
    },
    {
      "cell_type": "code",
      "source": [
        "#@title ##### Your answer should look like this\n",
        "[number**3 for number in range(20)]"
      ],
      "metadata": {
        "id": "ub-XfKBZXgFR",
        "colab": {
          "base_uri": "https://localhost:8080/"
        },
        "collapsed": true,
        "outputId": "8df05bba-e175-44bc-e42e-881c414b5ed2"
      },
      "execution_count": null,
      "outputs": [
        {
          "output_type": "execute_result",
          "data": {
            "text/plain": [
              "[0,\n",
              " 1,\n",
              " 8,\n",
              " 27,\n",
              " 64,\n",
              " 125,\n",
              " 216,\n",
              " 343,\n",
              " 512,\n",
              " 729,\n",
              " 1000,\n",
              " 1331,\n",
              " 1728,\n",
              " 2197,\n",
              " 2744,\n",
              " 3375,\n",
              " 4096,\n",
              " 4913,\n",
              " 5832,\n",
              " 6859]"
            ]
          },
          "metadata": {},
          "execution_count": 5
        }
      ]
    },
    {
      "cell_type": "markdown",
      "source": [
        "## Main Exercise: Creating and Manipulating Simple Data Structures\n",
        "\n",
        "**Learning Goals**\n",
        "\n",
        "This assignment will verify that you have the following skills:\n",
        "\n",
        "*    Create lists and dictionaries\n",
        "*    Iterate through lists, tuples, and dictionaries\n",
        "*    Index sequences (e.g. lists and tuples)\n",
        "*    Define functions\n",
        "*    Use optional keyword arguments in functions\n",
        "*    Define classes\n",
        "*    Add a custom method to a class"
      ],
      "metadata": {
        "id": "ATTpqOa0DS5w"
      }
    },
    {
      "cell_type": "markdown",
      "source": [
        "### Part I: Lists and Loops\n",
        "\n",
        "\n",
        "Q1.   Create a list with the names of every planet in the solar system (in order)\\\n",
        "Q2.   Have Python tell you how many planets there are by examining your list\\\n",
        "Q3.   Use slicing to display the first four planets (the rocky planets)\\\n",
        "Q4.   Iterate through your planets and print the planet name only if it has an `s` at the end\n"
      ],
      "metadata": {
        "id": "PakvfDxNDqoh"
      }
    },
    {
      "cell_type": "markdown",
      "source": [
        "**Q1.   Create a list with the names of every planet in the solar system (in order)**"
      ],
      "metadata": {
        "id": "i7Rdq-V_thPi"
      }
    },
    {
      "cell_type": "code",
      "source": [
        "planetlist = ['mercury','venus','earth', 'mars', 'jupiter', 'saturn', 'uranus', 'neptune']"
      ],
      "metadata": {
        "id": "kBk7sj8stf4q"
      },
      "execution_count": null,
      "outputs": []
    },
    {
      "cell_type": "markdown",
      "source": [
        "**Q2.   Have Python tell you how many planets there are by examining your list**"
      ],
      "metadata": {
        "id": "E_p79oZ4tmjp"
      }
    },
    {
      "cell_type": "code",
      "source": [
        "print(len(planetlist))"
      ],
      "metadata": {
        "id": "INbwC3OSttIQ",
        "colab": {
          "base_uri": "https://localhost:8080/"
        },
        "outputId": "c667ab76-c529-45b0-cc5c-21220623d146"
      },
      "execution_count": null,
      "outputs": [
        {
          "output_type": "stream",
          "name": "stdout",
          "text": [
            "8\n"
          ]
        }
      ]
    },
    {
      "cell_type": "markdown",
      "source": [
        "**Q3.   Use slicing to display the first four planets (the rocky planets)**\n"
      ],
      "metadata": {
        "id": "RCdn-rBMtvhP"
      }
    },
    {
      "cell_type": "code",
      "source": [
        "planetlist[:4]"
      ],
      "metadata": {
        "id": "tIArigiRt0X_",
        "colab": {
          "base_uri": "https://localhost:8080/"
        },
        "outputId": "96ba4389-8228-4eb7-ac26-6995b1d1bc6a"
      },
      "execution_count": null,
      "outputs": [
        {
          "output_type": "execute_result",
          "data": {
            "text/plain": [
              "['mercury', 'venus', 'earth', 'mars']"
            ]
          },
          "metadata": {},
          "execution_count": 8
        }
      ]
    },
    {
      "cell_type": "markdown",
      "source": [
        "**Q4.   Iterate through your planets and print the planet name only if it has an `s` at the end**\n"
      ],
      "metadata": {
        "id": "8Oy6N-VWt5PH"
      }
    },
    {
      "cell_type": "code",
      "source": [
        "for planet in planetlist:\n",
        "  if planet[-1]=='s':\n",
        "    print(planet)\n",
        "  else:\n",
        "    continue"
      ],
      "metadata": {
        "id": "l1jiMBNFt2uu",
        "colab": {
          "base_uri": "https://localhost:8080/"
        },
        "outputId": "992a4725-dd97-49e7-c113-8f51c3b5b7eb"
      },
      "execution_count": null,
      "outputs": [
        {
          "output_type": "stream",
          "name": "stdout",
          "text": [
            "venus\n",
            "mars\n",
            "uranus\n"
          ]
        }
      ]
    },
    {
      "cell_type": "markdown",
      "source": [
        "### Part II: Dictionary"
      ],
      "metadata": {
        "id": "t22s92xwDuE5"
      }
    },
    {
      "cell_type": "markdown",
      "source": [
        "**Q5) Now create a dictionary that maps each planet name to its mass**\n",
        "\n",
        "You can use values from this [NASA](https://nssdc.gsfc.nasa.gov/planetary/factsheet/) fact sheet. You can use whatever units you want, but please be consistent."
      ],
      "metadata": {
        "id": "D8JGILoCDzQS"
      }
    },
    {
      "cell_type": "code",
      "source": [
        "# Earth mass = 5.97 x 10^24 kg\n",
        "planetdict = {'mercury':3.3E23,'venus':4.87E24,'earth':5.97E24,\n",
        "              'mars':6.42E23,'jupiter':1.9E27,'saturn':5.68E26,'uranus':8.68E25,'nepturn':1.02E26}"
      ],
      "metadata": {
        "id": "jCtX4V2ot_o-"
      },
      "execution_count": null,
      "outputs": []
    },
    {
      "cell_type": "markdown",
      "source": [
        "**Q6) Use your dictionary to look up Earth’s mass**"
      ],
      "metadata": {
        "id": "Ek5Se2lrD5Iz"
      }
    },
    {
      "cell_type": "code",
      "source": [
        "# Write your code here\n",
        "print(planetdict['earth'])"
      ],
      "metadata": {
        "id": "yTTxpnnPuAof",
        "colab": {
          "base_uri": "https://localhost:8080/"
        },
        "outputId": "3c0ff2f6-d466-42aa-d4b7-1b790b802974"
      },
      "execution_count": null,
      "outputs": [
        {
          "output_type": "stream",
          "name": "stdout",
          "text": [
            "5.97e+24\n"
          ]
        }
      ]
    },
    {
      "cell_type": "markdown",
      "source": [
        "**Q7) Loop through the data to create and display a list of planets whose mass is greater than $100 \\times 10^{24}$ kg**"
      ],
      "metadata": {
        "id": "BkHvojwuD777"
      }
    },
    {
      "cell_type": "code",
      "source": [
        "# Write your code here\n",
        "# In the parentheses, you will access the names (keys) of each entry in the dictionary.\n",
        "# You should see this: ['jupiter', 'saturn', 'nepturn']\n",
        "q7list = []\n",
        "for key in list(planetdict.keys()):\n",
        "  # Now you wil access the values associated with each key-value pair\n",
        "  if planetdict[key]/1E24 >100:\n",
        "    q7list.append(key) # the name of each planet\n",
        "  else:\n",
        "    continue\n",
        "print(q7list)"
      ],
      "metadata": {
        "id": "UmQfeDqruBPm",
        "colab": {
          "base_uri": "https://localhost:8080/"
        },
        "outputId": "0463ff97-9290-4e40-8dad-0d0dd9783ca2"
      },
      "execution_count": null,
      "outputs": [
        {
          "output_type": "stream",
          "name": "stdout",
          "text": [
            "['jupiter', 'saturn', 'nepturn']\n"
          ]
        }
      ]
    },
    {
      "cell_type": "markdown",
      "source": [
        "**Q8) Now add Pluto to your dictionary**"
      ],
      "metadata": {
        "id": "n-dsPPdSEBoo"
      }
    },
    {
      "cell_type": "code",
      "source": [
        "# Write your code here\n",
        "# You should see this: ['mercury', 'venus', 'earth', 'mars', 'jupiter', 'saturn', 'uranus', 'nepturn', 'pluto']\n",
        "planetdict['pluto'] = ()\n",
        "print(planetdict.keys())"
      ],
      "metadata": {
        "id": "h6D5L6JtuB3W",
        "colab": {
          "base_uri": "https://localhost:8080/"
        },
        "outputId": "17a66259-db57-446f-9c50-9b9aad63bf84"
      },
      "execution_count": null,
      "outputs": [
        {
          "output_type": "stream",
          "name": "stdout",
          "text": [
            "dict_keys(['mercury', 'venus', 'earth', 'mars', 'jupiter', 'saturn', 'uranus', 'nepturn', 'pluto'])\n"
          ]
        }
      ]
    },
    {
      "cell_type": "markdown",
      "source": [
        "### Part III: Functions"
      ],
      "metadata": {
        "id": "mdAToOSvEG6f"
      }
    },
    {
      "cell_type": "markdown",
      "source": [
        "**Q9) Write a function to convert from the unit you chose for planetary masses to $M_{Earth}$, the mass of the Earth**\n",
        "\n",
        "For example, the mass of Jupiter is:\n",
        "\n",
        "$M_{Jupiter} \\approx 1898\\times10^{24}kg \\approx 318 M_{Earth}$"
      ],
      "metadata": {
        "id": "ROIndYqvEOeH"
      }
    },
    {
      "cell_type": "code",
      "source": [
        "# The function should take in the any planet mass you want (e.g., planetdict['mars']) and divide by the mass of Earth\n",
        "# (planetdict['earth'])\n",
        "def convert_mass_Mearth(val):\n",
        "  return val/planetdict['earth']\n",
        "convert_mass_Mearth(planetdict['jupiter'])\n",
        "#def convert_mass_Mearth(name=None):\n",
        "  #return planetdict[name]/planetdict['earth']\n",
        "#test it works for jupiter (planetdict['jupiter']), the function should output 317.92294807370183\n",
        "#convert_mass_Mearth('jupiter')"
      ],
      "metadata": {
        "id": "2q8fjUWmERVM",
        "colab": {
          "base_uri": "https://localhost:8080/"
        },
        "outputId": "342bf3d3-1c7b-4a8d-dd47-19c822e161f7"
      },
      "execution_count": null,
      "outputs": [
        {
          "output_type": "execute_result",
          "data": {
            "text/plain": [
              "318.2579564489112"
            ]
          },
          "metadata": {},
          "execution_count": 15
        }
      ]
    },
    {
      "cell_type": "markdown",
      "source": [
        "**Q10) Now write a single function that can convert from the unit you chose for planetary masses to both $M_{Earth}$ or $M_{Jupiter}$ depending on the keyword argument you specify**"
      ],
      "metadata": {
        "id": "0sMvjuphETEM"
      }
    },
    {
      "cell_type": "code",
      "source": [
        "# Write your function here\n",
        "def convert_m_Mearthjupiter(val=None,ourplanet='jupiter'):\n",
        "  return val/planetdict[ourplanet]\n",
        "\n",
        "# Check if your function work: convert Mjupiter to Mearth and Mjupiter,\n",
        "# You should see 317.923 (Mearth) and 1.0 (Mjupiter)\n",
        "print(convert_m_Mearthjupiter(planetdict['jupiter'],ourplanet='earth'),\n",
        "      convert_m_Mearthjupiter(planetdict['jupiter'],ourplanet='jupiter'))"
      ],
      "metadata": {
        "id": "1sMWhXR8DrbQ",
        "colab": {
          "base_uri": "https://localhost:8080/"
        },
        "outputId": "256ca5ba-4798-45c0-8f70-049f36d25684"
      },
      "execution_count": null,
      "outputs": [
        {
          "output_type": "stream",
          "name": "stdout",
          "text": [
            "318.2579564489112 1.0\n"
          ]
        }
      ]
    },
    {
      "cell_type": "code",
      "source": [
        "# Store the Mjupiter for Q11\n",
        "Mjupiter = convert_m_Mearthjupiter(planetdict['jupiter'],'jupiter')"
      ],
      "metadata": {
        "id": "-jLtgEdVsuAk"
      },
      "execution_count": null,
      "outputs": []
    },
    {
      "cell_type": "markdown",
      "source": [
        "**Q11) Write a function takes one argument (mass in $M_{Jupiter}$) and returns two arguments (mass in $M_{Earth}$ and mass in the unit you chose [whichever planet you want])**"
      ],
      "metadata": {
        "id": "I4P1udcPEXrc"
      }
    },
    {
      "cell_type": "code",
      "source": [
        "# Write your function here\n",
        "def mass_conversion_two_arguments(mass,planet='jupiter'):\n",
        "  a = mass/planetdict['earth'] # Earth\n",
        "  b = mass/planetdict[planet] # The planet you want to use as a reference\n",
        "  return a,b\n",
        "# Check that it works to convert Jupiter's mass to $M_{Earth}$ and to\n",
        "# the unit you chose (e.g., Mars' planet)\n",
        "print(mass_conversion_two_arguments(planetdict['jupiter'],'mars'))"
      ],
      "metadata": {
        "id": "ysKxqLEdDkVE",
        "colab": {
          "base_uri": "https://localhost:8080/"
        },
        "outputId": "4f2be12e-12dc-4db4-8fe5-a295e32b6e6f"
      },
      "execution_count": null,
      "outputs": [
        {
          "output_type": "stream",
          "name": "stdout",
          "text": [
            "(318.2579564489112, 2959.5015576323985)\n"
          ]
        }
      ]
    },
    {
      "cell_type": "code",
      "source": [
        "# Bonus: Use the function from Q10 to convert Neptune's mass to $M_{Jupiter}$\n",
        "# and then the function from Q11 to convert it back to the unit you chose\n",
        "# Do you get the original value back?\n",
        "Mnepturn = convert_m_Mearthjupiter(planetdict['nepturn'],ourplanet='jupiter')\n",
        "print(Mnepturn)\n",
        "print(mass_conversion_two_arguments(planetdict['nepturn'],planet='jupiter'))"
      ],
      "metadata": {
        "id": "HYEOb0_MEZ6R",
        "colab": {
          "base_uri": "https://localhost:8080/"
        },
        "outputId": "73cf83de-2a2e-46dc-bcf9-de469800e728"
      },
      "execution_count": null,
      "outputs": [
        {
          "output_type": "stream",
          "name": "stdout",
          "text": [
            "0.05368421052631579\n",
            "(17.085427135678394, 0.05368421052631579)\n"
          ]
        }
      ]
    },
    {
      "cell_type": "markdown",
      "source": [
        "### Part IV: Classes"
      ],
      "metadata": {
        "id": "nDLl3L13EhcT"
      }
    },
    {
      "cell_type": "markdown",
      "source": [
        "**Q12) Write a class `planet` with two attributes: `name` and `mass`**"
      ],
      "metadata": {
        "id": "aLPRglSDEl5r"
      }
    },
    {
      "cell_type": "code",
      "source": [
        "class planet:\n",
        "  def __init__(self,inname=None,inmass=None):\n",
        "    self.name = inname\n",
        "    self.mass = inmass\n",
        "# Create a new instance of that class to represent the Earth (mass=5.97)\n",
        "earth = planet('earth',5.97)\n",
        "# Create a new instance of that class to represent Jupiter (mass=1898)\n",
        "jupiter = planet('jupiter',1898)"
      ],
      "metadata": {
        "id": "aG9kqSo0EsSL"
      },
      "execution_count": null,
      "outputs": []
    },
    {
      "cell_type": "code",
      "source": [
        "# How to check that you did the right thing?\n",
        "print(earth.name,earth.mass)"
      ],
      "metadata": {
        "id": "mRBpmVbJvSrZ",
        "colab": {
          "base_uri": "https://localhost:8080/"
        },
        "outputId": "a269da20-25e0-4cfd-f27b-f20acf07bc7d"
      },
      "execution_count": null,
      "outputs": [
        {
          "output_type": "stream",
          "name": "stdout",
          "text": [
            "earth 5.97\n"
          ]
        }
      ]
    },
    {
      "cell_type": "markdown",
      "source": [
        "**Q13) Add a custom method `is_light` to the class `planet` that returns `True` if the planet is strictly lighter than Jupiter, `False` strictly heavier than Jupiter, and 'same mass!' if the planet weighs the same as jupiter**"
      ],
      "metadata": {
        "id": "cdgJ21kNEtI3"
      }
    },
    {
      "cell_type": "code",
      "source": [
        "class planet:\n",
        "  def __init__(self,inname=None,inmass=None):\n",
        "    self.name = inname\n",
        "    self.mass = inmass\n",
        "  def is_light(self):\n",
        "    if self.mass <planetdict['jupiter']:\n",
        "      print('True')\n",
        "    elif self.mass >planetdict['jupiter']:\n",
        "      print('False')\n",
        "    else:\n",
        "      print('same mass!')\n",
        "\n",
        "# Ask Python whether the Earth is lighter than Jupiter, you should see True for this one!\n",
        "planet('earth',planetdict['earth']).is_light()\n",
        "# Ask Python whether Jupiter is lighter than itself, you should see same mass! for this one!\n",
        "planet('jupiter',planetdict['jupiter']).is_light()\n"
      ],
      "metadata": {
        "id": "8-me3TTDEyFZ",
        "colab": {
          "base_uri": "https://localhost:8080/"
        },
        "outputId": "ba4cc953-403a-4d07-fd21-c3dd5698399b"
      },
      "execution_count": null,
      "outputs": [
        {
          "output_type": "stream",
          "name": "stdout",
          "text": [
            "True\n",
            "same mass!\n"
          ]
        }
      ]
    }
  ]
}